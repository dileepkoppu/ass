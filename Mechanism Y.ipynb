{
 "cells": [
  {
   "cell_type": "code",
   "execution_count": 0,
   "metadata": {
    "application/vnd.databricks.v1+cell": {
     "cellMetadata": {
      "byteLimit": 2048000,
      "rowLimit": 10000
     },
     "inputWidgets": {},
     "nuid": "239feb71-3996-41f9-8166-affdfad7be02",
     "showTitle": false,
     "tableResultSettingsMap": {},
     "title": ""
    }
   },
   "outputs": [],
   "source": [
    "import os\n",
    "import time\n",
    "from datetime import datetime\n",
    "import psycopg2\n",
    "from pyspark.sql.functions import col, count, avg, lower, when,row_number,percent_rank,lit\n",
    "from pyspark.sql import Window\n",
    "import requests\n",
    "import uuid\n"
   ]
  },
  {
   "cell_type": "code",
   "execution_count": 0,
   "metadata": {
    "application/vnd.databricks.v1+cell": {
     "cellMetadata": {
      "byteLimit": 2048000,
      "rowLimit": 10000
     },
     "inputWidgets": {},
     "nuid": "fe718add-809c-4c2d-8fd5-f6f9e059b6ae",
     "showTitle": false,
     "tableResultSettingsMap": {},
     "title": ""
    }
   },
   "outputs": [],
   "source": [
    "chunk_input_path = \"dbfs:/mnt/s3mount/chunk/\"\n",
    "detection_output_path = \"dbfs:/mnt/s3mount/detections/\"\n",
    "customer_importance_path = \"dbfs:/mnt/s3mount/Customer/CustomerImportance.csv\""
   ]
  },
  {
   "cell_type": "code",
   "execution_count": 0,
   "metadata": {
    "application/vnd.databricks.v1+cell": {
     "cellMetadata": {
      "byteLimit": 2048000,
      "rowLimit": 10000
     },
     "inputWidgets": {},
     "nuid": "d4829f5b-d4f1-4d07-b829-992073e2c2df",
     "showTitle": false,
     "tableResultSettingsMap": {},
     "title": ""
    }
   },
   "outputs": [],
   "source": [
    "pg_host = <host>\n",
    "pg_port = \"5432\"\n",
    "pg_db = \"ass\"\n",
    "pg_user = \"postgres\"\n",
    "pg_password = <pg_password>"
   ]
  },
  {
   "cell_type": "code",
   "execution_count": 0,
   "metadata": {
    "application/vnd.databricks.v1+cell": {
     "cellMetadata": {
      "byteLimit": 2048000,
      "rowLimit": 10000
     },
     "inputWidgets": {},
     "nuid": "d40b5af6-a00f-4643-8f53-7bd15afbb601",
     "showTitle": false,
     "tableResultSettingsMap": {},
     "title": ""
    }
   },
   "outputs": [],
   "source": [
    "\n",
    "def write_s3():\n",
    "    file_id='1abe9EkM_uf2F2hjEkbhMBG9Mf2dFE4Wo'\n",
    "    download_url = f\"https://drive.google.com/uc?export=download&id={file_id}\"\n",
    "    local_path = f\"/dbfs/temp/CustomerImportance.csv\"\n",
    "    r = requests.get(download_url)\n",
    "    with open(local_path, 'wb') as f:\n",
    "        f.write(r.content)\n",
    "    dbutils.fs.cp(f'file:{local_path}', customer_importance_path)\n",
    "\n",
    "write_s3()"
   ]
  },
  {
   "cell_type": "code",
   "execution_count": 0,
   "metadata": {
    "application/vnd.databricks.v1+cell": {
     "cellMetadata": {
      "byteLimit": 2048000,
      "rowLimit": 10000
     },
     "inputWidgets": {},
     "nuid": "a7b31e4f-a3ea-49ae-9e0c-ba3de6626d8b",
     "showTitle": false,
     "tableResultSettingsMap": {},
     "title": ""
    }
   },
   "outputs": [],
   "source": [
    "def get_processed_files():\n",
    "    conn = psycopg2.connect(host=pg_host, dbname=pg_db, user=pg_user, password=pg_password, port=pg_port)\n",
    "    cur = conn.cursor()\n",
    "    cur.execute(\"SELECT file_name FROM processed_chunks\")\n",
    "    files = [r[0] for r in cur.fetchall()]\n",
    "    conn.close()\n",
    "    return set(files)"
   ]
  },
  {
   "cell_type": "code",
   "execution_count": 0,
   "metadata": {
    "application/vnd.databricks.v1+cell": {
     "cellMetadata": {
      "byteLimit": 2048000,
      "rowLimit": 10000
     },
     "inputWidgets": {},
     "nuid": "26e470c0-1bfb-4b25-bf8c-ca93834b5764",
     "showTitle": false,
     "tableResultSettingsMap": {},
     "title": ""
    }
   },
   "outputs": [],
   "source": [
    "def mark_file_processed(file_name):\n",
    "    conn = psycopg2.connect(host=pg_host, dbname=pg_db, user=pg_user, password=pg_password, port=pg_port)\n",
    "    cur = conn.cursor()\n",
    "    cur.execute(\"INSERT INTO processed_chunks (file_name) VALUES (%s) ON CONFLICT DO NOTHING\", (file_name,))\n",
    "    conn.commit()\n",
    "    conn.close()"
   ]
  },
  {
   "cell_type": "code",
   "execution_count": 0,
   "metadata": {
    "application/vnd.databricks.v1+cell": {
     "cellMetadata": {
      "byteLimit": 2048000,
      "rowLimit": 10000
     },
     "inputWidgets": {},
     "nuid": "060a6807-e462-4390-8329-26c81960e0fc",
     "showTitle": false,
     "tableResultSettingsMap": {},
     "title": ""
    }
   },
   "outputs": [],
   "source": [
    "def PatId1(trans_df,cust_importance_df,YStartTime):\n",
    "    merchant_chunk_counts = (\n",
    "        trans_df.groupBy(\"merchant\")\n",
    "        .count()\n",
    "        .withColumnRenamed(\"count\", \"chunk_txn_count\")\n",
    "    )\n",
    "\n",
    "    merchant_chunk_counts_pd = merchant_chunk_counts.toPandas()\n",
    "    conn = psycopg2.connect(\n",
    "        host=pg_host, dbname=pg_db, user=pg_user, password=pg_password, port=pg_port\n",
    "    )\n",
    "    cur = conn.cursor()\n",
    "    for index, row in merchant_chunk_counts_pd.iterrows():\n",
    "        cur.execute(\"\"\"\n",
    "            INSERT INTO merchant_transaction_totals (merchant, total_txns)\n",
    "            VALUES (%s, %s)\n",
    "            ON CONFLICT (merchant) DO UPDATE \n",
    "            SET total_txns = merchant_transaction_totals.total_txns + EXCLUDED.total_txns;\n",
    "        \"\"\", (row['merchant'], int(row['chunk_txn_count'])))\n",
    "    conn.commit()\n",
    "\n",
    "    cur.execute(\"SELECT merchant FROM merchant_transaction_totals WHERE total_txns >= 50000\")\n",
    "    eligible_merchants = [r[0] for r in cur.fetchall()]\n",
    "    conn.close()\n",
    "\n",
    "    if not eligible_merchants:\n",
    "        print(\"No merchants reached 50K threshold yet. Skipping PatId1.\")\n",
    "        return None\n",
    "\n",
    "    eligible_df = spark.createDataFrame(eligible_merchants, \"string\").withColumnRenamed(\"value\", \"merchant\")\n",
    "    eligible_txns_df = trans_df.join(eligible_df, on=\"merchant\", how=\"inner\")\n",
    "\n",
    "    customer_counts = (\n",
    "        eligible_txns_df.groupBy(\"merchant\", \"customer\")\n",
    "        .agg(count(\"*\").alias(\"txn_count\"))\n",
    "    )\n",
    "\n",
    "    window_spec = Window.partitionBy(\"merchant\").orderBy(col(\"txn_count\").desc())\n",
    "    ranked = customer_counts.withColumn(\"percentile\", percent_rank().over(window_spec))\n",
    "    top_1_percent = ranked.filter(col(\"percentile\") <= 0.01)\n",
    "\n",
    "    combined = top_1_percent.join(\n",
    "        cust_importance_df,\n",
    "        top_1_percent[\"customer\"] == cust_importance_df[\"Source\"],\n",
    "        how=\"inner\"\n",
    "    ).withColumn(\"weight\", col(\"weight\").cast(\"float\"))\n",
    "    temp=combined.count()\n",
    "\n",
    "    if temp > 0:\n",
    "        weight_thresholds = combined.stat.approxQuantile(\"weight\", [0.01], 0.01)\n",
    "        if weight_thresholds:\n",
    "            low_weight = weight_thresholds[0]\n",
    "            pat1_df = combined.filter(col(\"weight\") <= low_weight).withColumn(\"YStartTime\", lit(YStartTime)) \\\n",
    "                .selectExpr(\n",
    "                \"YStartTime\",\n",
    "                \"current_timestamp() as detectionTime\",\n",
    "                \"'PatId1' as patternId\",\n",
    "                \"'UPGRADE' as actionType\",\n",
    "                \"customer as customerName\",\n",
    "                \"merchant as MerchantId\"\n",
    "            )\n",
    "            return pat1_df\n",
    "    return None\n"
   ]
  },
  {
   "cell_type": "code",
   "execution_count": 0,
   "metadata": {
    "application/vnd.databricks.v1+cell": {
     "cellMetadata": {
      "byteLimit": 2048000,
      "rowLimit": 10000
     },
     "inputWidgets": {},
     "nuid": "7c3d65ed-bebe-485a-9f7f-d90bed269434",
     "showTitle": false,
     "tableResultSettingsMap": {},
     "title": ""
    }
   },
   "outputs": [],
   "source": [
    "def PatId2(trans_df,YStartTime):\n",
    "    pat2_df = (\n",
    "        trans_df.groupBy(\"merchant\", \"customer\")\n",
    "        .agg(avg(\"amount\").alias(\"avg_txn\"), count(\"*\").alias(\"txn_count\"))\n",
    "        .filter((col(\"avg_txn\") < 23) & (col(\"txn_count\") >= 80))\n",
    "        .withColumn(\"YStartTime\", lit(YStartTime)) \\\n",
    "        .selectExpr(\n",
    "                \"YStartTime\",\n",
    "            \"current_timestamp() as detectionTime\",\n",
    "            \"'PatId2' as patternId\",\n",
    "            \"'CHILD' as actionType\",\n",
    "            \"customer as customerName\",\n",
    "            \"merchant as MerchantId\"\n",
    "        )\n",
    "    )\n",
    "    return pat2_df"
   ]
  },
  {
   "cell_type": "code",
   "execution_count": 0,
   "metadata": {
    "application/vnd.databricks.v1+cell": {
     "cellMetadata": {
      "byteLimit": 2048000,
      "rowLimit": 10000
     },
     "inputWidgets": {},
     "nuid": "186b18f3-1e53-4676-8b82-432fc00bb760",
     "showTitle": false,
     "tableResultSettingsMap": {},
     "title": ""
    }
   },
   "outputs": [],
   "source": [
    "from pyspark.sql.functions import col, lower, current_timestamp\n",
    "\n",
    "def PatId3(trans_df, YStartTime):\n",
    "    \n",
    "\n",
    "    gender_df = trans_df.withColumn(\"gender\", lower(col(\"gender\")))\\\n",
    "                        .filter(col(\"gender\").isin(\"f\", \"m\"))\n",
    "    gender_count = gender_df.groupBy(\"merchant\", \"gender\").count()\n",
    "    gender_pivot = gender_count.groupBy(\"merchant\")\\\n",
    "                               .pivot(\"gender\", [\"f\", \"m\"])\\\n",
    "                               .sum(\"count\")\\\n",
    "                               .fillna(0)  \n",
    "    pat3_df = gender_pivot.filter((col(\"f\") < col(\"m\")) & (col(\"f\") > 100))\\\n",
    "                          .withColumn(\"YStartTime\", lit(YStartTime)) \\\n",
    "                          .selectExpr(\n",
    "                              \"YStartTime\",\n",
    "                              \"current_timestamp() as detectionTime\",\n",
    "                              \"'PatId3' as patternId\",\n",
    "                              \"'DEI-NEEDED' as actionType\",\n",
    "                              \"'' as customerName\",\n",
    "                              \"merchant as MerchantId\"\n",
    "                          )\n",
    "    \n",
    "    return pat3_df"
   ]
  },
  {
   "cell_type": "code",
   "execution_count": 0,
   "metadata": {
    "application/vnd.databricks.v1+cell": {
     "cellMetadata": {
      "byteLimit": 2048000,
      "rowLimit": 10000
     },
     "inputWidgets": {},
     "nuid": "7eaed238-a4eb-4106-94ba-2d956b8f4777",
     "showTitle": false,
     "tableResultSettingsMap": {},
     "title": ""
    }
   },
   "outputs": [],
   "source": [
    "def detect_patterns(trans_df, cust_importance_df,YStartTime):\n",
    "    pat1_df = PatId1(trans_df,cust_importance_df,YStartTime)\n",
    "    pat2_df = PatId2(trans_df,YStartTime)\n",
    "    pat3_df = PatId3(trans_df,YStartTime)\n",
    "    final_df =pat2_df.unionByName(pat3_df)\n",
    "    if pat1_df is not None:\n",
    "       final_df = final_df.unionByName(pat1_df)\n",
    "    return final_df"
   ]
  },
  {
   "cell_type": "code",
   "execution_count": 0,
   "metadata": {
    "application/vnd.databricks.v1+cell": {
     "cellMetadata": {
      "byteLimit": 2048000,
      "rowLimit": 10000
     },
     "inputWidgets": {},
     "nuid": "2693aad9-d10b-4fb5-93ba-556eef162fa9",
     "showTitle": false,
     "tableResultSettingsMap": {},
     "title": ""
    }
   },
   "outputs": [],
   "source": [
    "schema_trans = \"\"\"step INT,\n",
    "    customer STRING,\n",
    "    age INT,           \n",
    "    gender STRING,\n",
    "    zipcodeOri STRING,\n",
    "    merchant STRING,\n",
    "    zipMerchant STRING,\n",
    "    category STRING,\n",
    "    amount DOUBLE,\n",
    "    fraud INT\"\"\"\n",
    "\n",
    "schema_cust='Source string, Target string, Weight float, typeTrans string, fraud int'\n",
    "\n",
    "schema_detection='YStartTime string, detectionTime timestamp, patternId string, actionType string, customerName string, MerchantId string'"
   ]
  },
  {
   "cell_type": "code",
   "execution_count": 0,
   "metadata": {
    "application/vnd.databricks.v1+cell": {
     "cellMetadata": {
      "byteLimit": 2048000,
      "rowLimit": 10000
     },
     "inputWidgets": {},
     "nuid": "eb33ac32-3d3f-43fc-b58a-37ccf266d8d5",
     "showTitle": false,
     "tableResultSettingsMap": {},
     "title": ""
    }
   },
   "outputs": [],
   "source": [
    "def write_detection_batch(batch, schema, output_path):\n",
    "    if not batch:\n",
    "        return\n",
    "    batch_df = spark.createDataFrame(batch, schema=schema)\n",
    "    batch_df.coalesce(1).write.mode(\"append\").option(\"header\", \"true\").csv(output_path)\n",
    "    print(f\"Wrote {len(batch)} detections to {output_path}\")"
   ]
  },
  {
   "cell_type": "code",
   "execution_count": 0,
   "metadata": {
    "application/vnd.databricks.v1+cell": {
     "cellMetadata": {
      "byteLimit": 2048000,
      "rowLimit": 10000
     },
     "inputWidgets": {},
     "nuid": "e9f9c1ee-01ad-4591-ada4-797295df71f0",
     "showTitle": false,
     "tableResultSettingsMap": {},
     "title": ""
    }
   },
   "outputs": [
    {
     "output_type": "stream",
     "name": "stdout",
     "output_type": "stream",
     "text": [
      "Processing: dbfs:/mnt/s3mount/chunk/part-00000-tid-3977065896322773474-20987141-cf7d-40d4-9b6c-d91640f9e9d8-64-1-c000.csv\nNo merchants reached 50K threshold yet. Skipping PatId1.\nNo detections.\nProcessing: dbfs:/mnt/s3mount/chunk/part-00000-tid-5270464475915362499-6a54e8ab-5ff6-4abf-8532-1faf2a0ee54a-63-1-c000.csv\nNo merchants reached 50K threshold yet. Skipping PatId1.\nNo detections.\nProcessing: dbfs:/mnt/s3mount/chunk/part-00000-tid-6624530746572677371-8b756a4d-09fb-46ce-9dfd-877f730a4173-62-1-c000.csv\nNo merchants reached 50K threshold yet. Skipping PatId1.\nNo detections.\nProcessing: dbfs:/mnt/s3mount/chunk/part-00000-tid-6964740517520853725-53c06f2a-bb82-4483-8d3f-cc6d51b0fa86-59-1-c000.csv\nNo merchants reached 50K threshold yet. Skipping PatId1.\nNo detections.\nProcessing: dbfs:/mnt/s3mount/chunk/part-00000-tid-7147507964213923869-8e36e423-7511-44fd-8ea3-c5deac91635e-60-1-c000.csv\nNo merchants reached 50K threshold yet. Skipping PatId1.\nNo detections.\nProcessing: dbfs:/mnt/s3mount/chunk/part-00000-tid-7823490952735696673-93f84e72-6385-4f88-b3e2-3ad7a50833c1-61-1-c000.csv\nNo merchants reached 50K threshold yet. Skipping PatId1.\nNo detections.\nProcessing: dbfs:/mnt/s3mount/chunk/part-00000-tid-2415113372435282421-9b5e0adb-d5fb-4e07-a8a0-abe28141a3c9-87-1-c000.csv\nNo merchants reached 50K threshold yet. Skipping PatId1.\nNo detections.\nProcessing: dbfs:/mnt/s3mount/chunk/part-00000-tid-5963693396862247682-b671e93a-669d-48ce-a9fb-73e2dc0155fe-65-1-c000.csv\nNo merchants reached 50K threshold yet. Skipping PatId1.\nNo detections.\nNo new files. Waiting...\nProcessing: dbfs:/mnt/s3mount/chunk/part-00000-tid-6380034595329965143-18209f7e-262c-4f88-bacd-ed3dfaa29331-115-1-c000.csv\nProcessing: dbfs:/mnt/s3mount/chunk/part-00000-tid-7995717840995976734-97287ae7-eb29-4b49-a634-843c54be583e-132-1-c000.csv\nProcessing: dbfs:/mnt/s3mount/chunk/part-00000-tid-2634693519187290242-24a54a10-bc81-49fa-89d7-c1445691dac4-214-1-c000.csv\nProcessing: dbfs:/mnt/s3mount/chunk/part-00000-tid-687660961086068198-6d84430d-6bc7-422b-a5cd-ae442f805e15-170-1-c000.csv\nProcessing: dbfs:/mnt/s3mount/chunk/part-00000-tid-8427728713827705962-31a07a84-a4ca-4f86-9e09-59dfa7ad1d6f-135-1-c000.csv\nProcessing: dbfs:/mnt/s3mount/chunk/part-00000-tid-3765499111623750135-dcc12306-8ff7-4067-b5dd-835d97f80432-388-1-c000.csv\nProcessing: dbfs:/mnt/s3mount/chunk/part-00000-tid-5293571581992948578-ad0140c8-a822-4b65-acca-c3c6468ce796-345-1-c000.csv\nProcessing: dbfs:/mnt/s3mount/chunk/part-00000-tid-5839395271767606375-a885b020-13ce-4255-88b7-8324587131b1-256-1-c000.csv\nProcessing: dbfs:/mnt/s3mount/chunk/part-00000-tid-8088486884455370488-544736d9-c9d0-4eb1-8b2b-8ef3d2e0b266-307-1-c000.csv\nProcessing: dbfs:/mnt/s3mount/chunk/part-00000-tid-154311438208306654-ac66d6a7-6bbb-4ffb-b27c-477c3229f697-525-1-c000.csv\nProcessing: dbfs:/mnt/s3mount/chunk/part-00000-tid-2384015026772558084-02088748-a969-47c0-ae68-8bd71db8b5ec-570-1-c000.csv\nProcessing: dbfs:/mnt/s3mount/chunk/part-00000-tid-5787534557586719447-90e19067-e577-4fb9-a9d1-be4ef7c218f2-436-1-c000.csv\nWrote 50 detections to dbfs:/mnt/s3mount/detections/\nProcessing: dbfs:/mnt/s3mount/chunk/part-00000-tid-981355078385750665-46cd2ae3-b23e-4a05-8d6d-f027fb17cbfd-486-1-c000.csv\nProcessing: dbfs:/mnt/s3mount/chunk/part-00000-tid-2530086829641820914-bd83b485-6322-4c36-8803-227b4176fa58-689-1-c000.csv\nProcessing: dbfs:/mnt/s3mount/chunk/part-00000-tid-3225556438587728239-ca284094-211e-41f1-9c1b-4d19246db015-866-1-c000.csv\nProcessing: dbfs:/mnt/s3mount/chunk/part-00000-tid-5106780489487466316-1e005069-2d4b-4743-99e5-0252cb3c38c1-645-1-c000.csv\nProcessing: dbfs:/mnt/s3mount/chunk/part-00000-tid-542508086678101740-e12029bb-ba31-4062-b231-fc89d9ecf7dd-817-1-c000.csv\nProcessing: dbfs:/mnt/s3mount/chunk/part-00000-tid-5995229265668207576-a36b334e-6b81-4b87-9bb9-02fa17ab63f9-776-1-c000.csv\nProcessing: dbfs:/mnt/s3mount/chunk/part-00000-tid-8682165272230541033-6d60654f-0264-4023-9f7d-755399b0aa96-741-1-c000.csv\nProcessing: dbfs:/mnt/s3mount/chunk/part-00000-tid-1032611306037010730-0b61abe7-ead8-4fc0-a68f-f660cb127ffe-1111-1-c000.csv\nProcessing: dbfs:/mnt/s3mount/chunk/part-00000-tid-1116151847207947299-ee083001-3f46-4291-b769-7f5e1da2491a-902-1-c000.csv\nProcessing: dbfs:/mnt/s3mount/chunk/part-00000-tid-456647645860133437-b434cad6-9a77-406a-ad00-51dcfb102908-1242-1-c000.csv\nProcessing: dbfs:/mnt/s3mount/chunk/part-00000-tid-550870137497271008-db1511df-b739-4f12-b6d0-076320ef0b19-1201-1-c000.csv\nWrote 50 detections to dbfs:/mnt/s3mount/detections/\nProcessing: dbfs:/mnt/s3mount/chunk/part-00000-tid-5975657677077916722-9cbcfbbc-a5dc-4ad0-b430-c2d7df232799-985-1-c000.csv\nProcessing: dbfs:/mnt/s3mount/chunk/part-00000-tid-6146288025957640980-607f56f8-f153-412b-a2be-cab807dcc8e8-1028-1-c000.csv\nProcessing: dbfs:/mnt/s3mount/chunk/part-00000-tid-6312297337608093754-11c78dfb-ea3a-4592-8b66-d4c13c1fda4c-940-1-c000.csv\nProcessing: dbfs:/mnt/s3mount/chunk/part-00000-tid-6751017561050791527-2669ca8c-49ec-44e3-830a-f05dff8f9ef2-1167-1-c000.csv\nProcessing: dbfs:/mnt/s3mount/chunk/part-00000-tid-7077236371004947716-7d4414fa-4d43-4e5f-abfb-c8539b02a2c2-1070-1-c000.csv\nProcessing: dbfs:/mnt/s3mount/chunk/part-00000-tid-1475642655123058538-7c021295-da3d-4196-a9b0-9c1f36238caf-1461-1-c000.csv\nProcessing: dbfs:/mnt/s3mount/chunk/part-00000-tid-1556564573088467585-f0926092-b1bf-4527-85bd-ef082a4535c7-1745-1-c000.csv\nWrote 50 detections to dbfs:/mnt/s3mount/detections/\nProcessing: dbfs:/mnt/s3mount/chunk/part-00000-tid-1571315195345374119-adad13bf-bb86-4186-903e-efd146de751f-1660-1-c000.csv\nProcessing: dbfs:/mnt/s3mount/chunk/part-00000-tid-159982063114137318-21935228-744b-49e4-8ef3-751818db7b88-1498-1-c000.csv\nProcessing: dbfs:/mnt/s3mount/chunk/part-00000-tid-1706215917683497661-d4e31d13-944d-4a13-9240-73118c0e9b50-1781-1-c000.csv\nProcessing: dbfs:/mnt/s3mount/chunk/part-00000-tid-2617603267702926047-2dd5f010-efbe-4263-9d6c-0d4431528551-1537-1-c000.csv\nProcessing: dbfs:/mnt/s3mount/chunk/part-00000-tid-4147600157915880674-c8486c42-bbe0-428c-8f45-0719ed813975-1706-1-c000.csv\nProcessing: dbfs:/mnt/s3mount/chunk/part-00000-tid-4742013666338828146-30aca23a-0620-439e-b361-96745035d5ab-1412-1-c000.csv\nProcessing: dbfs:/mnt/s3mount/chunk/part-00000-tid-5132527387633003932-c947bac8-09bd-4141-9a55-3354247d872b-1369-1-c000.csv\nProcessing: dbfs:/mnt/s3mount/chunk/part-00000-tid-5720099876211671970-dbd8e46b-430f-46d7-addb-81c9d2a91904-1327-1-c000.csv\nProcessing: dbfs:/mnt/s3mount/chunk/part-00000-tid-6122003488647379285-ff9a14ca-43bb-41f0-b8d8-e4e514fd49f3-1617-1-c000.csv\nWrote 50 detections to dbfs:/mnt/s3mount/detections/\nProcessing: dbfs:/mnt/s3mount/chunk/part-00000-tid-6382566253273355351-1ce20090-59d5-440c-81a7-514312efb89d-1575-1-c000.csv\nProcessing: dbfs:/mnt/s3mount/chunk/part-00000-tid-6585059455246060697-028f9541-1ce4-49b3-853a-ded6730b0522-1290-1-c000.csv\nProcessing: dbfs:/mnt/s3mount/chunk/part-00000-tid-2790377447323340228-a4231ff5-5004-4172-9cc9-14b64cee7801-1830-1-c000.csv\nProcessing: dbfs:/mnt/s3mount/chunk/part-00000-tid-3396443578879075529-d444af24-6adb-456b-95e5-f50134d3478c-1864-1-c000.csv\nProcessing: dbfs:/mnt/s3mount/chunk/part-00000-tid-3421015705538781940-85697d76-8fcf-4ae4-b46d-10775aba647e-2149-1-c000.csv\nProcessing: dbfs:/mnt/s3mount/chunk/part-00000-tid-3605918184000807019-394bca11-8c54-4d49-8b93-b16a55e8820f-1982-1-c000.csv\nProcessing: dbfs:/mnt/s3mount/chunk/part-00000-tid-4366449904596442310-31fd859e-90f5-4662-b35b-f4dbecc69103-2175-1-c000.csv\nWrote 50 detections to dbfs:/mnt/s3mount/detections/\nProcessing: dbfs:/mnt/s3mount/chunk/part-00000-tid-4395902450005440069-ecf659c5-6ee7-480c-bd3c-6e5be54b149f-2026-1-c000.csv\nProcessing: dbfs:/mnt/s3mount/chunk/part-00000-tid-5596182493383173428-9284e3e2-5e36-49d5-b12e-855321c1af32-1946-1-c000.csv\nProcessing: dbfs:/mnt/s3mount/chunk/part-00000-tid-572883610925212354-7252c16e-87a0-4bf4-9970-2cf24eddd1c5-1905-1-c000.csv\nProcessing: dbfs:/mnt/s3mount/chunk/part-00000-tid-6332524215001193638-86bdccb9-88d6-4bf5-a415-90b965a90379-2060-1-c000.csv\nProcessing: dbfs:/mnt/s3mount/chunk/part-00000-tid-6805687947999402023-9b2683f9-5877-4a53-af4a-3b0914b7150e-2216-1-c000.csv\nProcessing: dbfs:/mnt/s3mount/chunk/part-00000-tid-8400215698207133976-f6fa5a73-ce28-4969-b1ca-b45b50f352a1-2100-1-c000.csv\nWrote 50 detections to dbfs:/mnt/s3mount/detections/\nNo new files. Waiting...\nNo new files. Waiting...\nNo new files. Waiting...\nNo new files. Waiting...\nNo new files. Waiting...\nWrote 3 detections to dbfs:/mnt/s3mount/detections/\nExiting loop after waiting.\n"
     ]
    }
   ],
   "source": [
    "wait_rounds=0\n",
    "detection_buffer = []\n",
    "while True:\n",
    "    YStartTime=datetime.now().strftime(\"%Y-%m-%dT%H:%M:%S.%fZ\")[:-3] + \"Z\"\n",
    "    input_files = dbutils.fs.ls(chunk_input_path)\n",
    "    processed_files = get_processed_files()\n",
    "\n",
    "    new_files = [\n",
    "        f.path for f in input_files\n",
    "        if f.path.endswith(\".csv\") and os.path.basename(f.path) not in processed_files\n",
    "    ]\n",
    "\n",
    "    if not new_files:\n",
    "        print(\"No new files. Waiting...\")\n",
    "        time.sleep(10)\n",
    "        wait_rounds += 1\n",
    "        if wait_rounds >= 5:\n",
    "            if detection_buffer:\n",
    "                batch = detection_buffer[:50]\n",
    "                write_detection_batch(batch, schema_detection, detection_output_path)\n",
    "            print(\"Exiting loop after waiting.\")\n",
    "            break\n",
    "\n",
    "        continue\n",
    "\n",
    "    for file_path in new_files:\n",
    "        print(f\"Processing: {file_path}\")\n",
    "        \n",
    "        df = spark.read.option(\"header\", \"true\").schema(schema_trans).csv(file_path)\n",
    "\n",
    "        cust_importance_df = (\n",
    "            spark.read.option(\"header\", \"true\")\n",
    "            .option(\"quote\", \"'\")\n",
    "            .schema(schema_cust)\n",
    "            .csv(customer_importance_path)\n",
    "            .withColumn(\"weight\", col(\"weight\").cast(\"float\"))\n",
    "        )\n",
    "\n",
    "        detections_df = detect_patterns(df, cust_importance_df,YStartTime)\n",
    "\n",
    "        if detections_df is None or detections_df.count() == 0:\n",
    "            print(\"No detections.\")\n",
    "            mark_file_processed(os.path.basename(file_path))\n",
    "            continue\n",
    "\n",
    "        new_detections = detections_df.collect()\n",
    "        detection_buffer.extend(new_detections)\n",
    "\n",
    "        while len(detection_buffer) >= 50:\n",
    "            batch = detection_buffer[:50]\n",
    "            detection_buffer = detection_buffer[50:]\n",
    "            write_detection_batch(batch, schema_detection, detection_output_path)\n",
    "\n",
    "        mark_file_processed(os.path.basename(file_path))\n",
    "        time.sleep(1)\n",
    "    wait_rounds = 0"
   ]
  },
  {
   "cell_type": "code",
   "execution_count": 0,
   "metadata": {
    "application/vnd.databricks.v1+cell": {
     "cellMetadata": {
      "byteLimit": 2048000,
      "rowLimit": 10000
     },
     "inputWidgets": {},
     "nuid": "a970a0e6-fc2a-4e12-98f2-a0423f7d0a03",
     "showTitle": false,
     "tableResultSettingsMap": {},
     "title": ""
    }
   },
   "outputs": [
    {
     "output_type": "stream",
     "name": "stdout",
     "output_type": "stream",
     "text": [
      "+-------------------------+------------------------+---------+----------+------------+-----------+\n|YStartTime               |detectionTime           |patternId|actionType|customerName|MerchantId |\n+-------------------------+------------------------+---------+----------+------------+-----------+\n|2025-06-01T15:51:31.4245Z|2025-06-01T15:51:57.145Z|PatId1   |UPGRADE   |C1018653381 |M1823072687|\n|2025-06-01T15:51:31.4245Z|2025-06-01T15:51:57.145Z|PatId1   |UPGRADE   |C1710930627 |M1823072687|\n|2025-06-01T15:51:31.4245Z|2025-06-01T15:52:07.846Z|PatId1   |UPGRADE   |C833126375  |M1823072687|\n|2025-06-01T15:51:31.4245Z|2025-06-01T15:52:18.957Z|PatId1   |UPGRADE   |C876944738  |M1823072687|\n|2025-06-01T15:51:31.4245Z|2025-06-01T15:52:18.957Z|PatId1   |UPGRADE   |C1918953803 |M1823072687|\n|2025-06-01T15:51:31.4245Z|2025-06-01T15:52:18.957Z|PatId1   |UPGRADE   |C1814870538 |M1823072687|\n|2025-06-01T15:51:31.4245Z|2025-06-01T15:52:18.957Z|PatId1   |UPGRADE   |C782199851  |M1823072687|\n|2025-06-01T15:51:31.4245Z|2025-06-01T15:52:18.957Z|PatId1   |UPGRADE   |C1797237747 |M1823072687|\n|2025-06-01T15:51:31.4245Z|2025-06-01T15:52:18.957Z|PatId1   |UPGRADE   |C1659350842 |M1823072687|\n|2025-06-01T15:51:31.4245Z|2025-06-01T15:52:18.957Z|PatId1   |UPGRADE   |C1167781928 |M1823072687|\n|2025-06-01T15:51:31.4245Z|2025-06-01T15:52:18.957Z|PatId1   |UPGRADE   |C351144071  |M1823072687|\n|2025-06-01T15:51:31.4245Z|2025-06-01T15:52:18.957Z|PatId1   |UPGRADE   |C1897689911 |M1823072687|\n|2025-06-01T15:51:31.4245Z|2025-06-01T15:52:18.957Z|PatId1   |UPGRADE   |C1710930627 |M1823072687|\n|2025-06-01T15:51:31.4245Z|2025-06-01T15:52:18.957Z|PatId1   |UPGRADE   |C1510459992 |M1823072687|\n|2025-06-01T15:51:31.4245Z|2025-06-01T15:52:18.957Z|PatId1   |UPGRADE   |C1951890364 |M1823072687|\n|2025-06-01T15:51:31.4245Z|2025-06-01T15:52:18.957Z|PatId1   |UPGRADE   |C1433132752 |M1823072687|\n|2025-06-01T15:51:31.4245Z|2025-06-01T15:52:18.957Z|PatId1   |UPGRADE   |C833126375  |M1823072687|\n|2025-06-01T15:51:31.4245Z|2025-06-01T15:52:30.238Z|PatId1   |UPGRADE   |C1659350842 |M1823072687|\n|2025-06-01T15:51:31.4245Z|2025-06-01T15:52:30.238Z|PatId1   |UPGRADE   |C1355357191 |M348934600 |\n|2025-06-01T15:51:31.4245Z|2025-06-01T15:52:30.238Z|PatId1   |UPGRADE   |C1923131377 |M348934600 |\n+-------------------------+------------------------+---------+----------+------------+-----------+\nonly showing top 20 rows\n\n"
     ]
    }
   ],
   "source": [
    "spark.read.csv(detection_output_path,header=True).show(truncate=False)"
   ]
  },
  {
   "cell_type": "code",
   "execution_count": 0,
   "metadata": {
    "application/vnd.databricks.v1+cell": {
     "cellMetadata": {},
     "inputWidgets": {},
     "nuid": "8562243f-f139-48af-9ffa-e26810d08c69",
     "showTitle": false,
     "tableResultSettingsMap": {},
     "title": ""
    }
   },
   "outputs": [],
   "source": []
  }
 ],
 "metadata": {
  "application/vnd.databricks.v1+notebook": {
   "computePreferences": null,
   "dashboards": [],
   "environmentMetadata": {
    "base_environment": "",
    "environment_version": "2"
   },
   "inputWidgetPreferences": null,
   "language": "python",
   "notebookMetadata": {
    "pythonIndentUnit": 4
   },
   "notebookName": "Mechanism Y",
   "widgets": {}
  },
  "language_info": {
   "name": "python"
  }
 },
 "nbformat": 4,
 "nbformat_minor": 0
}